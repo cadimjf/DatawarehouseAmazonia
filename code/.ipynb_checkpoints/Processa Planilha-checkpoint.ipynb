{
 "cells": [
  {
   "cell_type": "markdown",
   "metadata": {},
   "source": [
    "# Processador de planilha\n",
    "- Recebe uma planilha obtida de https://dados.gov.br/dados/conjuntos-dados/previsao-climatica-do-censipam\n",
    "- Lê os registros\n",
    "- Realiza composições\n",
    "- Faz inserções no BD"
   ]
  },
  {
   "cell_type": "code",
   "execution_count": 1,
   "metadata": {},
   "outputs": [],
   "source": [
    "import pandas as pd\n",
    "df = pd.read_csv('../documentos/previsaoTempoDadoAbertoOut2022_gerado_01112022_100000.csv')"
   ]
  },
  {
   "cell_type": "code",
   "execution_count": 2,
   "metadata": {},
   "outputs": [
    {
     "data": {
      "text/plain": [
       "Index(['Data', 'Cidade', 'Condicao_do_Tempo_Prevista', 'Temperatura_Tendencia',\n",
       "       'Temperatura_Minima', 'Temperatura_Maxima', 'Vento_Velocidade_Minima',\n",
       "       'Vento_Velocidade_Maxima', 'Vento_Direcao', 'Vento_Intensidade'],\n",
       "      dtype='object')"
      ]
     },
     "execution_count": 2,
     "metadata": {},
     "output_type": "execute_result"
    }
   ],
   "source": [
    "df.columns"
   ]
  },
  {
   "cell_type": "code",
   "execution_count": 3,
   "metadata": {},
   "outputs": [
    {
     "data": {
      "text/plain": [
       "array(['Claro a nublado com pancadas de chuva isoladas a tarde',\n",
       "       'Claro a nublado com pancadas de chuva isoladas a noite',\n",
       "       'Poucas nuvens a nublado com possibilidade de chuva em areas isoladas a noite',\n",
       "       'Poucas nuvens a nublado com pancadas de chuva e trovoadas isoladas a noite',\n",
       "       'Poucas nuvens a nublado com pancadas de chuva e trovoadas isoladas a tarde e a noite',\n",
       "       'Parcialmente nublado a nublado com pancadas de chuva e trovoadas isoladas a tarde e a noite',\n",
       "       'Poucas nuvens a nublado com pancadas de chuva e trovoadas isoladas a tarde',\n",
       "       'Claro a nublado com pancadas de chuva e trovoadas a tarde',\n",
       "       'Poucas nuvens a nublado com pancadas de chuva e trovoadas a tarde',\n",
       "       'Poucas nuvens a nublado com pancadas de chuva e trovoadas isoladas entre o final da tarde e o inicio da noite',\n",
       "       'Poucas nuvens a nublado',\n",
       "       'Poucas nuvens a nublado com pancadas de chuva isoladas ao final da tarde',\n",
       "       'Parcialmente nublado a nublado com chuva e trovoadas a tarde',\n",
       "       'Poucas nuvens a nublado com possibilidade de chuva em areas isoladas a tarde',\n",
       "       'Claro a parcialmente nublado',\n",
       "       'Parcialmente nublado a nublado com pancadas de chuva isoladas a tarde e a noite',\n",
       "       'Poucas nuvens a parcialmente nublado com chuva em areas isoladas a qualquer hora do dia',\n",
       "       'Parcialmente nublado a nublado com chuva e trovoadas a tarde e a noite',\n",
       "       'Parcialmente nublado a nublado com pancadas de chuva e trovoadas a tarde',\n",
       "       'Parcialmente nublado a nublado',\n",
       "       'Parcialmente nublado a nublado com pancadas de chuva isoladas a tarde',\n",
       "       'Parcialmente nublado a nublado com pancadas de chuva a tarde e a noite',\n",
       "       'Nublado a parcialmente nublado com chuva e trovoadas a qualquer hora do dia',\n",
       "       'Poucas nuvens a nublado com pancadas de chuva a tarde',\n",
       "       'Parcialmente nublado a nublado com pancadas de chuva e trovoadas isoladas',\n",
       "       'Claro a parcialmente nublado com pancadas de chuva e trovoadas isoladas',\n",
       "       'Nublado a encoberto com chuva',\n",
       "       'Nublado com pancadas de chuva e trovoadas',\n",
       "       'Poucas nuvens a nublado com pancadas de chuva e trovoadas a tarde e a noite',\n",
       "       'Parcialmente nublado a nublado com pancadas de chuva e trovoadas a tarde e a noite',\n",
       "       'Parcialmente nublado a nublado com pancadas de chuva e trovoadas isoladas entre o final da tarde e o inicio da noite',\n",
       "       'Parcialmente nublado a nublado com pancadas de chuva e trovoadas isoladas a qualquer hora do dia',\n",
       "       'Parcialmente nublado com pancadas de chuva isoladas a qualquer hora do dia',\n",
       "       'Poucas nuvens a parcialmente nublado com pancadas de chuva e trovoadas isoladas entre o final da tarde e o inicio da noite',\n",
       "       'Parcialmente nublado a nublado com pancadas de chuva e trovoadas',\n",
       "       'Poucas nuvens a nublado com chuva em areas isoladas a tarde e a noite',\n",
       "       'Claro a nublado com pancadas de chuva e trovoadas a tarde e a noite',\n",
       "       'Poucas nuvens a nublado com pancadas de chuva isoladas a noite',\n",
       "       'Poucas nuvens a nublado com pancadas de chuva isoladas a tarde e a noite',\n",
       "       'Encoberto a nublado com chuva e trovoadas a qualquer hora do dia',\n",
       "       'Parcialmente nublado com possibilidade de chuva em areas isoladas a tarde',\n",
       "       'Poucas nuvens a parcialmente nublado',\n",
       "       'Poucas nuvens a nublado com pancadas de chuva isoladas a tarde',\n",
       "       'Claro a nublado',\n",
       "       'Claro a nublado com pancadas de chuva e trovoadas isoladas a tarde e a noite',\n",
       "       'Poucas nuvens a parcialmente nublado com pancadas de chuva e trovoadas isoladas a tarde e a noite',\n",
       "       'Poucas nuvens a encoberto com pancadas de chuva isoladas a tarde e a noite',\n",
       "       'Poucas nuvens a nublado com pancadas de chuva e trovoadas a noite',\n",
       "       'Nublado a encoberto com chuva e trovoadas pela manha e a noite',\n",
       "       'Nublado a encoberto com chuva e trovoadas na madrugada',\n",
       "       'Nublado a encoberto com pancadas de chuva e trovoadas isoladas a tarde',\n",
       "       'Nublado a parcialmente nublado com pancadas de chuva e trovoadas isoladas a tarde',\n",
       "       'Nublado a parcialmente nublado com pancadas de chuva e trovoadas isoladas na madrugada',\n",
       "       'Nublado a parcialmente nublado',\n",
       "       'Claro a nublado com pancadas de chuva e trovoadas isoladas entre o final da tarde e o inicio da noite',\n",
       "       'Claro a parcialmente nublado com possibilidade de chuva em areas isoladas',\n",
       "       'Nublado a encoberto com pancadas de chuva e trovoadas',\n",
       "       'Poucas nuvens a parcialmente nublado com pancadas de chuva isoladas entre o final da tarde e o inicio da noite',\n",
       "       'Claro a nublado com pancadas de chuva entre o final da tarde e o inicio da noite',\n",
       "       'Claro a nublado com pancadas de chuva isoladas a tarde e a noite',\n",
       "       'Poucas nuvens a encoberto com pancadas de chuva e trovoadas isoladas a tarde e a noite',\n",
       "       'Poucas nuvens a nublado com possibilidade de chuva a noite',\n",
       "       'Poucas nuvens a nublado com pancadas de chuva e trovoadas isoladas pela manha e a noite',\n",
       "       'Parcialmente nublado a nublado com chuva em areas isoladas',\n",
       "       'Parcialmente nublado com possibilidade de chuva em areas isoladas',\n",
       "       'Claro a poucas nuvens',\n",
       "       'Parcialmente nublado a nublado com chuva',\n",
       "       'Parcialmente nublado a nublado com possibilidade de chuva em areas isoladas',\n",
       "       'Parcialmente nublado a nublado com pancadas de chuva',\n",
       "       'Nublado a parcialmente nublado com pancadas de chuva e trovoadas isoladas',\n",
       "       'Nublado com chuva e trovoadas',\n",
       "       'Parcialmente nublado a nublado com chuva e trovoadas',\n",
       "       'Poucas nuvens a nublado com chuva em areas isoladas',\n",
       "       'Poucas nuvens a parcialmente nublado com chuva em areas isoladas',\n",
       "       'Poucas nuvens a parcialmente nublado com possibilidade de chuva em areas isoladas',\n",
       "       'Poucas nuvens a nublado com pancadas de chuva',\n",
       "       'Nublado a parcialmente nublado com chuva em areas isoladas',\n",
       "       'Nublado a parcialmente nublado com chuva',\n",
       "       'Nublado a parcialmente nublado com possibilidade de chuva em areas isoladas',\n",
       "       'Nublado com chuva', 'Encoberto a nublado com pancadas de chuva',\n",
       "       'Encoberto a parciamente nublado com chuva em areas isoladas',\n",
       "       'Claro a nublado com pancadas de chuva e trovoadas isoladas a tarde',\n",
       "       'Nublado a parcialmente nublado com pancadas de chuva e trovoadas isoladas a tarde e a noite',\n",
       "       'Nublado a parcialmente nublado com chuva e trovoadas pela manha e a tarde',\n",
       "       'Nublado a parcialmente nublado com pancadas de chuva',\n",
       "       'Nublado a parcialmente nublado com pancadas de chuva isoladas',\n",
       "       'Nublado com pancadas de chuva e trovoadas isoladas',\n",
       "       'Nublado com pancadas de chuva', 'Encoberto a nublado com chuva',\n",
       "       'Poucas nuvens a nublado com chuva e trovoadas a tarde',\n",
       "       'Parcialmente nublado a nublado com pancadas de chuva e trovoadas isoladas a tarde',\n",
       "       'Claro a parcialmente nublado com pancadas de chuva e trovoadas isoladas a tarde',\n",
       "       'Poucas nuvens a nublado com pancadas de chuva e trovoadas entre o final da tarde e o inicio da noite',\n",
       "       'Nublado a parcialmente nublado com chuva na madrugada',\n",
       "       'Nublado a parcialmente nublado com pancadas de chuva e trovoadas na madrugada',\n",
       "       'Parcialmente nublado com chuva em areas isoladas',\n",
       "       'Nublado a parcialmente nublado com pancadas de chuva e trovoadas',\n",
       "       'Poucas nuvens a nublado com possibilidade de chuva em areas isoladas',\n",
       "       'Parcialmente nublado a nublado com pancadas de chuva isoladas',\n",
       "       'Encoberto a nublado com pancadas de chuva e trovoadas a qualquer hora do dia',\n",
       "       'Parcialmente nublado a encoberto com pancadas de chuva e trovoadas a tarde e a noite',\n",
       "       'Poucas nuvens a parcialmente nublado com pancadas de chuva e trovoadas isoladas a tarde e no inicio da noite',\n",
       "       'Poucas nuvens a nublado com pancadas de chuva e trovoadas',\n",
       "       'Poucas nuvens a nublado com chuva',\n",
       "       'Nublado com pancadas de chuva isoladas',\n",
       "       'Nublado com possibilidade de chuva em areas isoladas',\n",
       "       'Claro a nublado com pancadas de chuva isoladas entre o final da tarde e o inicio da noite',\n",
       "       'Claro a nublado com pancadas de chuva a tarde',\n",
       "       'Parcialmente nublado a nublado com chuva e trovoadas a qualquer hora do dia',\n",
       "       'Parcialmente nublado a nublado com chuva e trovoadas pela manha e a noite',\n",
       "       'Parcialmente nublado a nublado com chuva e trovoadas na madrugada',\n",
       "       'Nublado a encoberto com chuva e trovoadas a qualquer hora do dia',\n",
       "       'Nublado a parcialmente nublado com chuva e trovoadas na madrugada',\n",
       "       'Poucas nuvens a nublado com pancadas de chuva e trovoadas isoladas',\n",
       "       'Parcialmente nublado a poucas nuvens com possibilidade de chuva em areas isoladas',\n",
       "       'Poucas nuvens a nublado com pancadas de chuva isoladas',\n",
       "       'Nublado a parcialmente nublado com pancadas de chuva isoladas a qualquer hora do dia',\n",
       "       'Nublado a encoberto com chuva a qualquer hora do dia',\n",
       "       'Parcialmente nublado a nublado com pancadas de chuva isoladas entre o final da tarde e o inicio da noite',\n",
       "       'Parcialmente nublado a nublado com pancadas de chuva e trovoadas isoladas na madrugada',\n",
       "       'Nublado a parcialmente nublado com pancadas de chuva pela manha',\n",
       "       'Parcialmente nublado a nublado com possibilidade de chuva em areas isoladas a noite',\n",
       "       'Nublado a parcialmente nublado com chuva e trovoadas pela manha e a noite',\n",
       "       'Encoberto a nublado com chuva e trovoadas na madrugada',\n",
       "       'Claro a nublado com chuva em areas isoladas',\n",
       "       'Encoberto a nublado com chuva em areas isoladas',\n",
       "       'Encoberto a nublado com pancadas de chuva a tarde',\n",
       "       'Claro a parcialmente nublado com pancadas de chuva isoladas a tarde',\n",
       "       'Parcialmente nublado a claro com pancadas de chuva e trovoadas a tarde',\n",
       "       'Parcialmente nublado a nublado com possibilidade de chuva',\n",
       "       'Encoberto com chuva',\n",
       "       'Claro a parcialmente nublado com pancadas de chuva isoladas a tarde e a noite',\n",
       "       'Claro a parcialmente nublado com pancadas de chuva isoladas ao inicio da noite',\n",
       "       'Poucas nuvens a nublado com pancadas de chuva isoladas entre o final da tarde e o inicio da noite',\n",
       "       'Nublado a parcialmente nublado com chuva e trovoadas a tarde',\n",
       "       'Nublado a parcialmente nublado com chuva e trovoadas',\n",
       "       'Parcialmente nublado', 'Nublado com possibilidade de chuva',\n",
       "       'Parcialmente nublado a nublado com pancadas de chuva e trovoadas isoladas a tarde e no inicio da noite',\n",
       "       'Parcialmente nublado a nublado com pancadas de chuva isoladas a tarde e no inicio da noite',\n",
       "       'Poucas nuvens a parcialmente nublado com pancadas de chuva isoladas a tarde e no inicio da noite',\n",
       "       'Poucas nuvens',\n",
       "       'Parcialmente nublado com pancadas de chuva isoladas entre o final da tarde e o inicio da noite',\n",
       "       'Claro a nublado com pancadas de chuva pela manha',\n",
       "       'Parcialmente nublado a nublado com pancadas de chuva a noite',\n",
       "       'Parcialmente nublado a nublado com pancadas de chuva e trovoadas isoladas a noite',\n",
       "       'Nublado a parcialmente nublado com chuva e trovoadas pela manha',\n",
       "       'Parcialmente nublado a nublado com chuva e trovoadas pela manha e a tarde',\n",
       "       'Claro a parcialmente nublado com chuva em areas isoladas',\n",
       "       'Nublado a poucas nuvens com possibilidade de chuva em areas isoladas',\n",
       "       'Encoberto com pancadas de chuva',\n",
       "       'Encoberto a parciamente nublado com chuva',\n",
       "       'Nublado a encoberto com chuva e trovoadas a tarde e a noite',\n",
       "       'Encoberto a nublado com chuva e trovoadas pela manha',\n",
       "       'Encoberto a parciamente nublado com chuva e trovoadas a qualquer hora do dia',\n",
       "       'Encoberto a parciamente nublado com chuva e trovoadas',\n",
       "       'Claro a parcialmente nublado com pancadas de chuva e trovoadas isoladas entre o final da tarde e o inicio da noite',\n",
       "       'Poucas nuvens a nublado com pancadas de chuva e trovoadas na madrugada',\n",
       "       'Parcialmente nublado a nublado com pancadas de chuva e trovoadas entre o final da tarde e o inicio da noite',\n",
       "       'Poucas nuvens a parcialmente nublado com pancadas de chuva e trovoadas isoladas a tarde',\n",
       "       'Parcialmente nublado a nublado com chuva pela manha e a tarde',\n",
       "       'Parcialmente nublado a encoberto com chuva e trovoadas a tarde e a noite',\n",
       "       'Poucas nuvens a parcialmente nublado com pancadas de chuva e trovoadas isoladas',\n",
       "       'Poucas nuvens a parcialmente nublado com pancadas de chuva isoladas a tarde',\n",
       "       'Poucas nuvens a parcialmente nublado com pancadas de chuva isoladas a tarde e a noite',\n",
       "       'Claro a nublado com chuva e trovoadas a tarde e a noite'],\n",
       "      dtype=object)"
      ]
     },
     "execution_count": 3,
     "metadata": {},
     "output_type": "execute_result"
    }
   ],
   "source": [
    "df['Condicao_do_Tempo_Prevista'].unique()"
   ]
  },
  {
   "cell_type": "code",
   "execution_count": 9,
   "metadata": {},
   "outputs": [
    {
     "ename": "ProgrammingError",
     "evalue": "1045 (28000): Access denied for user 'cadim'@'localhost' (using password: NO)",
     "output_type": "error",
     "traceback": [
      "\u001b[0;31m---------------------------------------------------------------------------\u001b[0m",
      "\u001b[0;31mMySQLInterfaceError\u001b[0m                       Traceback (most recent call last)",
      "File \u001b[0;32m~/.local/lib/python3.10/site-packages/mysql/connector/connection_cext.py:268\u001b[0m, in \u001b[0;36mCMySQLConnection._open_connection\u001b[0;34m(self)\u001b[0m\n\u001b[1;32m    267\u001b[0m \u001b[38;5;28;01mtry\u001b[39;00m:\n\u001b[0;32m--> 268\u001b[0m     \u001b[38;5;28;43mself\u001b[39;49m\u001b[38;5;241;43m.\u001b[39;49m\u001b[43m_cmysql\u001b[49m\u001b[38;5;241;43m.\u001b[39;49m\u001b[43mconnect\u001b[49m\u001b[43m(\u001b[49m\u001b[38;5;241;43m*\u001b[39;49m\u001b[38;5;241;43m*\u001b[39;49m\u001b[43mcnx_kwargs\u001b[49m\u001b[43m)\u001b[49m\n\u001b[1;32m    269\u001b[0m     \u001b[38;5;28mself\u001b[39m\u001b[38;5;241m.\u001b[39m_cmysql\u001b[38;5;241m.\u001b[39mconverter_str_fallback \u001b[38;5;241m=\u001b[39m \u001b[38;5;28mself\u001b[39m\u001b[38;5;241m.\u001b[39m_converter_str_fallback\n",
      "\u001b[0;31mMySQLInterfaceError\u001b[0m: Access denied for user 'cadim'@'localhost' (using password: NO)",
      "\nThe above exception was the direct cause of the following exception:\n",
      "\u001b[0;31mProgrammingError\u001b[0m                          Traceback (most recent call last)",
      "Cell \u001b[0;32mIn[9], line 3\u001b[0m\n\u001b[1;32m      1\u001b[0m \u001b[38;5;28;01mimport\u001b[39;00m \u001b[38;5;21;01mmysql\u001b[39;00m\u001b[38;5;21;01m.\u001b[39;00m\u001b[38;5;21;01mconnector\u001b[39;00m\n\u001b[1;32m      2\u001b[0m \u001b[38;5;66;03m#python -m pip install mysql-connector-python\u001b[39;00m\n\u001b[0;32m----> 3\u001b[0m mydb \u001b[38;5;241m=\u001b[39m \u001b[43mmysql\u001b[49m\u001b[38;5;241;43m.\u001b[39;49m\u001b[43mconnector\u001b[49m\u001b[38;5;241;43m.\u001b[39;49m\u001b[43mconnect\u001b[49m\u001b[43m(\u001b[49m\n\u001b[1;32m      4\u001b[0m \u001b[43m  \u001b[49m\u001b[43mhost\u001b[49m\u001b[38;5;241;43m=\u001b[39;49m\u001b[38;5;124;43m\"\u001b[39;49m\u001b[38;5;124;43mlocalhost\u001b[39;49m\u001b[38;5;124;43m\"\u001b[39;49m\u001b[43m,\u001b[49m\n\u001b[1;32m      5\u001b[0m \u001b[43m  \u001b[49m\u001b[43muser\u001b[49m\u001b[38;5;241;43m=\u001b[39;49m\u001b[38;5;124;43m\"\u001b[39;49m\u001b[38;5;124;43m\"\u001b[39;49m\u001b[43m,\u001b[49m\n\u001b[1;32m      6\u001b[0m \u001b[43m  \u001b[49m\u001b[43mpassword\u001b[49m\u001b[38;5;241;43m=\u001b[39;49m\u001b[38;5;124;43m\"\u001b[39;49m\u001b[38;5;124;43m\"\u001b[39;49m\u001b[43m,\u001b[49m\n\u001b[1;32m      7\u001b[0m \u001b[43m  \u001b[49m\u001b[43mdatabase\u001b[49m\u001b[38;5;241;43m=\u001b[39;49m\u001b[38;5;124;43m\"\u001b[39;49m\u001b[38;5;124;43mamazonia_tempo\u001b[39;49m\u001b[38;5;124;43m\"\u001b[39;49m\n\u001b[1;32m      8\u001b[0m \u001b[43m)\u001b[49m\n",
      "File \u001b[0;32m~/.local/lib/python3.10/site-packages/mysql/connector/pooling.py:286\u001b[0m, in \u001b[0;36mconnect\u001b[0;34m(*args, **kwargs)\u001b[0m\n\u001b[1;32m    283\u001b[0m         \u001b[38;5;28;01mraise\u001b[39;00m \u001b[38;5;167;01mImportError\u001b[39;00m(ERROR_NO_CEXT)\n\u001b[1;32m    285\u001b[0m \u001b[38;5;28;01mif\u001b[39;00m CMySQLConnection \u001b[38;5;129;01mand\u001b[39;00m \u001b[38;5;129;01mnot\u001b[39;00m use_pure:\n\u001b[0;32m--> 286\u001b[0m     \u001b[38;5;28;01mreturn\u001b[39;00m \u001b[43mCMySQLConnection\u001b[49m\u001b[43m(\u001b[49m\u001b[38;5;241;43m*\u001b[39;49m\u001b[43margs\u001b[49m\u001b[43m,\u001b[49m\u001b[43m \u001b[49m\u001b[38;5;241;43m*\u001b[39;49m\u001b[38;5;241;43m*\u001b[39;49m\u001b[43mkwargs\u001b[49m\u001b[43m)\u001b[49m\n\u001b[1;32m    287\u001b[0m \u001b[38;5;28;01mreturn\u001b[39;00m MySQLConnection(\u001b[38;5;241m*\u001b[39margs, \u001b[38;5;241m*\u001b[39m\u001b[38;5;241m*\u001b[39mkwargs)\n",
      "File \u001b[0;32m~/.local/lib/python3.10/site-packages/mysql/connector/connection_cext.py:101\u001b[0m, in \u001b[0;36mCMySQLConnection.__init__\u001b[0;34m(self, **kwargs)\u001b[0m\n\u001b[1;32m     98\u001b[0m \u001b[38;5;28msuper\u001b[39m()\u001b[38;5;241m.\u001b[39m\u001b[38;5;21m__init__\u001b[39m()\n\u001b[1;32m    100\u001b[0m \u001b[38;5;28;01mif\u001b[39;00m kwargs:\n\u001b[0;32m--> 101\u001b[0m     \u001b[38;5;28;43mself\u001b[39;49m\u001b[38;5;241;43m.\u001b[39;49m\u001b[43mconnect\u001b[49m\u001b[43m(\u001b[49m\u001b[38;5;241;43m*\u001b[39;49m\u001b[38;5;241;43m*\u001b[39;49m\u001b[43mkwargs\u001b[49m\u001b[43m)\u001b[49m\n",
      "File \u001b[0;32m~/.local/lib/python3.10/site-packages/mysql/connector/abstracts.py:1108\u001b[0m, in \u001b[0;36mMySQLConnectionAbstract.connect\u001b[0;34m(self, **kwargs)\u001b[0m\n\u001b[1;32m   1105\u001b[0m     \u001b[38;5;28mself\u001b[39m\u001b[38;5;241m.\u001b[39mconfig(\u001b[38;5;241m*\u001b[39m\u001b[38;5;241m*\u001b[39mkwargs)\n\u001b[1;32m   1107\u001b[0m \u001b[38;5;28mself\u001b[39m\u001b[38;5;241m.\u001b[39mdisconnect()\n\u001b[0;32m-> 1108\u001b[0m \u001b[38;5;28;43mself\u001b[39;49m\u001b[38;5;241;43m.\u001b[39;49m\u001b[43m_open_connection\u001b[49m\u001b[43m(\u001b[49m\u001b[43m)\u001b[49m\n\u001b[1;32m   1109\u001b[0m \u001b[38;5;66;03m# Server does not allow to run any other statement different from ALTER\u001b[39;00m\n\u001b[1;32m   1110\u001b[0m \u001b[38;5;66;03m# when user's password has been expired.\u001b[39;00m\n\u001b[1;32m   1111\u001b[0m \u001b[38;5;28;01mif\u001b[39;00m \u001b[38;5;129;01mnot\u001b[39;00m \u001b[38;5;28mself\u001b[39m\u001b[38;5;241m.\u001b[39m_client_flags \u001b[38;5;241m&\u001b[39m ClientFlag\u001b[38;5;241m.\u001b[39mCAN_HANDLE_EXPIRED_PASSWORDS:\n",
      "File \u001b[0;32m~/.local/lib/python3.10/site-packages/mysql/connector/connection_cext.py:273\u001b[0m, in \u001b[0;36mCMySQLConnection._open_connection\u001b[0;34m(self)\u001b[0m\n\u001b[1;32m    271\u001b[0m         \u001b[38;5;28mself\u001b[39m\u001b[38;5;241m.\u001b[39mconverter\u001b[38;5;241m.\u001b[39mstr_fallback \u001b[38;5;241m=\u001b[39m \u001b[38;5;28mself\u001b[39m\u001b[38;5;241m.\u001b[39m_converter_str_fallback\n\u001b[1;32m    272\u001b[0m \u001b[38;5;28;01mexcept\u001b[39;00m MySQLInterfaceError \u001b[38;5;28;01mas\u001b[39;00m err:\n\u001b[0;32m--> 273\u001b[0m     \u001b[38;5;28;01mraise\u001b[39;00m get_mysql_exception(\n\u001b[1;32m    274\u001b[0m         msg\u001b[38;5;241m=\u001b[39merr\u001b[38;5;241m.\u001b[39mmsg, errno\u001b[38;5;241m=\u001b[39merr\u001b[38;5;241m.\u001b[39merrno, sqlstate\u001b[38;5;241m=\u001b[39merr\u001b[38;5;241m.\u001b[39msqlstate\n\u001b[1;32m    275\u001b[0m     ) \u001b[38;5;28;01mfrom\u001b[39;00m \u001b[38;5;21;01merr\u001b[39;00m\n\u001b[1;32m    277\u001b[0m \u001b[38;5;28mself\u001b[39m\u001b[38;5;241m.\u001b[39m_do_handshake()\n",
      "\u001b[0;31mProgrammingError\u001b[0m: 1045 (28000): Access denied for user 'cadim'@'localhost' (using password: NO)"
     ]
    }
   ],
   "source": [
    "import mysql.connector\n",
    "#python -m pip install mysql-connector-python\n",
    "mydb = mysql.connector.connect(\n",
    "  host=\"localhost\",\n",
    "  user=\"root\",\n",
    "  password=\"amaz123\",\n",
    "  database=\"amazonia_tempo\"\n",
    ")"
   ]
  },
  {
   "cell_type": "code",
   "execution_count": null,
   "metadata": {},
   "outputs": [],
   "source": []
  },
  {
   "cell_type": "code",
   "execution_count": null,
   "metadata": {},
   "outputs": [],
   "source": [
    "df"
   ]
  },
  {
   "cell_type": "code",
   "execution_count": 9,
   "metadata": {},
   "outputs": [],
   "source": [
    "def tbl_data(x_data):\n",
    "    #mycursor = mydb.cursor()\n",
    "    sql = \"INSERT INTO data (dia, mes, ano) VALUES (%s, %s, %s)\"\n",
    "    d, m, a = x_data.split(\"/\")\n",
    "    val = (d.strip(), m.strip(), a.strip())\n",
    "    #mycursor.execute(sql, val)\n",
    "    #mydb.commit()\n",
    "    #return mycursor.lastrowid"
   ]
  },
  {
   "cell_type": "code",
   "execution_count": 10,
   "metadata": {},
   "outputs": [],
   "source": [
    "def tbl_localizacao(x_local):\n",
    "    #mycursor = mydb.cursor()\n",
    "    sql = \"INSERT INTO localizacao (cidade, estado, pais) VALUES (%s, %s, %s)\"\n",
    "    cidade, uf = x_local.split('-')\n",
    "    val = (cidade.strip(), uf.strip(), 'BRASIL')\n",
    "    #mycursor.execute(sql, val)\n",
    "    #mydb.commit()\n",
    "    #return mycursor.lastrowid"
   ]
  },
  {
   "cell_type": "code",
   "execution_count": 11,
   "metadata": {},
   "outputs": [],
   "source": [
    "def tbl_temperatura(x_temp):\n",
    "    #mycursor = mydb.cursor()\n",
    "    sql = \"INSERT INTO temperatura (temperatura_tendencia) VALUES (%s)\"\n",
    "    val = (x_temp.strip())\n",
    "    #mycursor.execute(sql, val)\n",
    "    #mydb.commit()\n",
    "    #return mycursor.lastrowid"
   ]
  },
  {
   "cell_type": "code",
   "execution_count": 12,
   "metadata": {},
   "outputs": [],
   "source": [
    "def tbl_vento(x_vento_dir, x_vento_int):\n",
    "    #mycursor = mydb.cursor()\n",
    "    sql = \"INSERT INTO Vento (temperatura_tendencia) VALUES (%s, %s)\"\n",
    "    val = (x_vento_dir.strip(), x_vento_int.strip())\n",
    "    #mycursor.execute(sql, val)\n",
    "    #mydb.commit()\n",
    "    #return mycursor.lastrowid"
   ]
  },
  {
   "cell_type": "code",
   "execution_count": 22,
   "metadata": {},
   "outputs": [],
   "source": [
    "def medias(local):\n",
    "    df_cidade = df[df['Cidade']==local];\n",
    "    t_min = df_cidade[['Temperatura_Minima']].mean()\n",
    "    t_max = df_cidade[['Temperatura_Maxima']].mean()\n",
    "    v_min = df_cidade[['Vento_Velocidade_Minima']].mean()\n",
    "    v_max = df_cidade[['Vento_Velocidade_Maxima']].mean()\n",
    "    \n",
    "    return t_min, t_max, v_min, v_max\n",
    "    #['Vento_Velocidade_Minima', 'Vento_Velocidade_Maxima', 'Temperatura_Minima', 'Temperatura_Maxima']"
   ]
  },
  {
   "cell_type": "code",
   "execution_count": 23,
   "metadata": {},
   "outputs": [],
   "source": [
    "def inserir_linha(row):\n",
    "    id_data  = tbl_data(row['Data'])\n",
    "    id_local = tbl_localizacao(row['Cidade'])\n",
    "    id_temp  = tbl_temperatura(row['Temperatura_Tendencia'])\n",
    "    id_vento = tbl_vento(row['Vento_Direcao'], row['Vento_Intensidade'])\n",
    "    \n",
    "    t_min, t_max, v_min, v_max = medias(row['Cidade'])\n",
    "    \n",
    "    #mycursor = mydb.cursor()\n",
    "    sql = \"INSERT INTO Tempo (id_data, id_localizacao, id_temperatura, id_vento, \"\n",
    "    sql +=\" vento_velocidade_minima, vento_velocidade_maxima, \"\n",
    "    sql +=\" temperatura_Minima, temperatura_Maxima, condicao_do_Tempo_Prevista, \"\n",
    "    sql += \" Temperatura_Minima, Temperatura_Maxima, Vento_Velocidade_Minima, Vento_Velocidade_Maxima)\"\n",
    "    sql += \" VALUES (%s, %s, %s, %s, %s, %s, %s, %s, %s, %s, %s, %s, %s)\"\n",
    "    val = (id_data, id_local, id_temp, id_vento, \n",
    "            row['Vento_Velocidade_Minima'],row['Vento_Velocidade_Maxima'],\n",
    "            row['Temperatura_Minima'], row['Temperatura_Maxima'],\n",
    "            row['Condicao_do_Tempo_Prevista'],\n",
    "            t_min, t_max, v_min, v_max)\n",
    "    #mycursor.execute(sql, val)\n",
    "    #mydb.commit()\n",
    "    #return mycursor.lastrowid\n"
   ]
  },
  {
   "cell_type": "code",
   "execution_count": 24,
   "metadata": {},
   "outputs": [
    {
     "ename": "ValueError",
     "evalue": "too many values to unpack (expected 2)",
     "output_type": "error",
     "traceback": [
      "\u001b[1;31m---------------------------------------------------------------------------\u001b[0m",
      "\u001b[1;31mValueError\u001b[0m                                Traceback (most recent call last)",
      "\u001b[1;32m<ipython-input-24-a2f07f553d4a>\u001b[0m in \u001b[0;36m<module>\u001b[1;34m\u001b[0m\n\u001b[1;32m----> 1\u001b[1;33m \u001b[0mdf\u001b[0m\u001b[1;33m.\u001b[0m\u001b[0mapply\u001b[0m\u001b[1;33m(\u001b[0m\u001b[1;32mlambda\u001b[0m \u001b[0mx\u001b[0m\u001b[1;33m:\u001b[0m \u001b[0minserir_linha\u001b[0m\u001b[1;33m(\u001b[0m\u001b[0mx\u001b[0m\u001b[1;33m)\u001b[0m\u001b[1;33m,\u001b[0m \u001b[0maxis\u001b[0m \u001b[1;33m=\u001b[0m \u001b[1;36m1\u001b[0m\u001b[1;33m)\u001b[0m\u001b[1;33m\u001b[0m\u001b[0m\n\u001b[0m",
      "\u001b[1;32mc:\\users\\ricar\\appdata\\local\\programs\\python\\python37\\lib\\site-packages\\pandas\\core\\frame.py\u001b[0m in \u001b[0;36mapply\u001b[1;34m(self, func, axis, raw, result_type, args, **kwds)\u001b[0m\n\u001b[0;32m   6876\u001b[0m             \u001b[0mkwds\u001b[0m\u001b[1;33m=\u001b[0m\u001b[0mkwds\u001b[0m\u001b[1;33m,\u001b[0m\u001b[1;33m\u001b[0m\u001b[0m\n\u001b[0;32m   6877\u001b[0m         )\n\u001b[1;32m-> 6878\u001b[1;33m         \u001b[1;32mreturn\u001b[0m \u001b[0mop\u001b[0m\u001b[1;33m.\u001b[0m\u001b[0mget_result\u001b[0m\u001b[1;33m(\u001b[0m\u001b[1;33m)\u001b[0m\u001b[1;33m\u001b[0m\u001b[0m\n\u001b[0m\u001b[0;32m   6879\u001b[0m \u001b[1;33m\u001b[0m\u001b[0m\n\u001b[0;32m   6880\u001b[0m     \u001b[1;32mdef\u001b[0m \u001b[0mapplymap\u001b[0m\u001b[1;33m(\u001b[0m\u001b[0mself\u001b[0m\u001b[1;33m,\u001b[0m \u001b[0mfunc\u001b[0m\u001b[1;33m)\u001b[0m \u001b[1;33m->\u001b[0m \u001b[1;34m\"DataFrame\"\u001b[0m\u001b[1;33m:\u001b[0m\u001b[1;33m\u001b[0m\u001b[0m\n",
      "\u001b[1;32mc:\\users\\ricar\\appdata\\local\\programs\\python\\python37\\lib\\site-packages\\pandas\\core\\apply.py\u001b[0m in \u001b[0;36mget_result\u001b[1;34m(self)\u001b[0m\n\u001b[0;32m    184\u001b[0m             \u001b[1;32mreturn\u001b[0m \u001b[0mself\u001b[0m\u001b[1;33m.\u001b[0m\u001b[0mapply_raw\u001b[0m\u001b[1;33m(\u001b[0m\u001b[1;33m)\u001b[0m\u001b[1;33m\u001b[0m\u001b[0m\n\u001b[0;32m    185\u001b[0m \u001b[1;33m\u001b[0m\u001b[0m\n\u001b[1;32m--> 186\u001b[1;33m         \u001b[1;32mreturn\u001b[0m \u001b[0mself\u001b[0m\u001b[1;33m.\u001b[0m\u001b[0mapply_standard\u001b[0m\u001b[1;33m(\u001b[0m\u001b[1;33m)\u001b[0m\u001b[1;33m\u001b[0m\u001b[0m\n\u001b[0m\u001b[0;32m    187\u001b[0m \u001b[1;33m\u001b[0m\u001b[0m\n\u001b[0;32m    188\u001b[0m     \u001b[1;32mdef\u001b[0m \u001b[0mapply_empty_result\u001b[0m\u001b[1;33m(\u001b[0m\u001b[0mself\u001b[0m\u001b[1;33m)\u001b[0m\u001b[1;33m:\u001b[0m\u001b[1;33m\u001b[0m\u001b[0m\n",
      "\u001b[1;32mc:\\users\\ricar\\appdata\\local\\programs\\python\\python37\\lib\\site-packages\\pandas\\core\\apply.py\u001b[0m in \u001b[0;36mapply_standard\u001b[1;34m(self)\u001b[0m\n\u001b[0;32m    294\u001b[0m             \u001b[1;32mtry\u001b[0m\u001b[1;33m:\u001b[0m\u001b[1;33m\u001b[0m\u001b[0m\n\u001b[0;32m    295\u001b[0m                 result = libreduction.compute_reduction(\n\u001b[1;32m--> 296\u001b[1;33m                     \u001b[0mvalues\u001b[0m\u001b[1;33m,\u001b[0m \u001b[0mself\u001b[0m\u001b[1;33m.\u001b[0m\u001b[0mf\u001b[0m\u001b[1;33m,\u001b[0m \u001b[0maxis\u001b[0m\u001b[1;33m=\u001b[0m\u001b[0mself\u001b[0m\u001b[1;33m.\u001b[0m\u001b[0maxis\u001b[0m\u001b[1;33m,\u001b[0m \u001b[0mdummy\u001b[0m\u001b[1;33m=\u001b[0m\u001b[0mdummy\u001b[0m\u001b[1;33m,\u001b[0m \u001b[0mlabels\u001b[0m\u001b[1;33m=\u001b[0m\u001b[0mlabels\u001b[0m\u001b[1;33m\u001b[0m\u001b[0m\n\u001b[0m\u001b[0;32m    297\u001b[0m                 )\n\u001b[0;32m    298\u001b[0m             \u001b[1;32mexcept\u001b[0m \u001b[0mValueError\u001b[0m \u001b[1;32mas\u001b[0m \u001b[0merr\u001b[0m\u001b[1;33m:\u001b[0m\u001b[1;33m\u001b[0m\u001b[0m\n",
      "\u001b[1;32mpandas\\_libs\\reduction.pyx\u001b[0m in \u001b[0;36mpandas._libs.reduction.compute_reduction\u001b[1;34m()\u001b[0m\n",
      "\u001b[1;32mpandas\\_libs\\reduction.pyx\u001b[0m in \u001b[0;36mpandas._libs.reduction.Reducer.get_result\u001b[1;34m()\u001b[0m\n",
      "\u001b[1;32m<ipython-input-24-a2f07f553d4a>\u001b[0m in \u001b[0;36m<lambda>\u001b[1;34m(x)\u001b[0m\n\u001b[1;32m----> 1\u001b[1;33m \u001b[0mdf\u001b[0m\u001b[1;33m.\u001b[0m\u001b[0mapply\u001b[0m\u001b[1;33m(\u001b[0m\u001b[1;32mlambda\u001b[0m \u001b[0mx\u001b[0m\u001b[1;33m:\u001b[0m \u001b[0minserir_linha\u001b[0m\u001b[1;33m(\u001b[0m\u001b[0mx\u001b[0m\u001b[1;33m)\u001b[0m\u001b[1;33m,\u001b[0m \u001b[0maxis\u001b[0m \u001b[1;33m=\u001b[0m \u001b[1;36m1\u001b[0m\u001b[1;33m)\u001b[0m\u001b[1;33m\u001b[0m\u001b[0m\n\u001b[0m",
      "\u001b[1;32m<ipython-input-23-da78c26ac731>\u001b[0m in \u001b[0;36minserir_linha\u001b[1;34m(row)\u001b[0m\n\u001b[0;32m      1\u001b[0m \u001b[1;32mdef\u001b[0m \u001b[0minserir_linha\u001b[0m\u001b[1;33m(\u001b[0m\u001b[0mrow\u001b[0m\u001b[1;33m)\u001b[0m\u001b[1;33m:\u001b[0m\u001b[1;33m\u001b[0m\u001b[0m\n\u001b[0;32m      2\u001b[0m     \u001b[0mid_data\u001b[0m  \u001b[1;33m=\u001b[0m \u001b[0mtbl_data\u001b[0m\u001b[1;33m(\u001b[0m\u001b[0mrow\u001b[0m\u001b[1;33m[\u001b[0m\u001b[1;34m'Data'\u001b[0m\u001b[1;33m]\u001b[0m\u001b[1;33m)\u001b[0m\u001b[1;33m\u001b[0m\u001b[0m\n\u001b[1;32m----> 3\u001b[1;33m     \u001b[0mid_local\u001b[0m \u001b[1;33m=\u001b[0m \u001b[0mtbl_localizacao\u001b[0m\u001b[1;33m(\u001b[0m\u001b[0mrow\u001b[0m\u001b[1;33m[\u001b[0m\u001b[1;34m'Cidade'\u001b[0m\u001b[1;33m]\u001b[0m\u001b[1;33m)\u001b[0m\u001b[1;33m\u001b[0m\u001b[0m\n\u001b[0m\u001b[0;32m      4\u001b[0m     \u001b[0mid_temp\u001b[0m  \u001b[1;33m=\u001b[0m \u001b[0mtbl_temperatura\u001b[0m\u001b[1;33m(\u001b[0m\u001b[0mrow\u001b[0m\u001b[1;33m[\u001b[0m\u001b[1;34m'Temperatura_Tendencia'\u001b[0m\u001b[1;33m]\u001b[0m\u001b[1;33m)\u001b[0m\u001b[1;33m\u001b[0m\u001b[0m\n\u001b[0;32m      5\u001b[0m     \u001b[0mid_vento\u001b[0m \u001b[1;33m=\u001b[0m \u001b[0mtbl_vento\u001b[0m\u001b[1;33m(\u001b[0m\u001b[0mrow\u001b[0m\u001b[1;33m[\u001b[0m\u001b[1;34m'Vento_Direcao'\u001b[0m\u001b[1;33m]\u001b[0m\u001b[1;33m,\u001b[0m \u001b[0mrow\u001b[0m\u001b[1;33m[\u001b[0m\u001b[1;34m'Vento_Intensidade'\u001b[0m\u001b[1;33m]\u001b[0m\u001b[1;33m)\u001b[0m\u001b[1;33m\u001b[0m\u001b[0m\n",
      "\u001b[1;32m<ipython-input-10-db47f44e8ac7>\u001b[0m in \u001b[0;36mtbl_localizacao\u001b[1;34m(x_local)\u001b[0m\n\u001b[0;32m      2\u001b[0m     \u001b[1;31m#mycursor = mydb.cursor()\u001b[0m\u001b[1;33m\u001b[0m\u001b[1;33m\u001b[0m\u001b[0m\n\u001b[0;32m      3\u001b[0m     \u001b[0msql\u001b[0m \u001b[1;33m=\u001b[0m \u001b[1;34m\"INSERT INTO localizacao (cidade, estado, pais) VALUES (%s, %s, %s)\"\u001b[0m\u001b[1;33m\u001b[0m\u001b[0m\n\u001b[1;32m----> 4\u001b[1;33m     \u001b[0mcidade\u001b[0m\u001b[1;33m,\u001b[0m \u001b[0muf\u001b[0m \u001b[1;33m=\u001b[0m \u001b[0mx_local\u001b[0m\u001b[1;33m.\u001b[0m\u001b[0msplit\u001b[0m\u001b[1;33m(\u001b[0m\u001b[1;34m'-'\u001b[0m\u001b[1;33m)\u001b[0m\u001b[1;33m\u001b[0m\u001b[0m\n\u001b[0m\u001b[0;32m      5\u001b[0m     \u001b[0mval\u001b[0m \u001b[1;33m=\u001b[0m \u001b[1;33m(\u001b[0m\u001b[0mcidade\u001b[0m\u001b[1;33m.\u001b[0m\u001b[0mstrip\u001b[0m\u001b[1;33m(\u001b[0m\u001b[1;33m)\u001b[0m\u001b[1;33m,\u001b[0m \u001b[0muf\u001b[0m\u001b[1;33m.\u001b[0m\u001b[0mstrip\u001b[0m\u001b[1;33m(\u001b[0m\u001b[1;33m)\u001b[0m\u001b[1;33m,\u001b[0m \u001b[1;34m'BRASIL'\u001b[0m\u001b[1;33m)\u001b[0m\u001b[1;33m\u001b[0m\u001b[0m\n\u001b[0;32m      6\u001b[0m     \u001b[1;31m#mycursor.execute(sql, val)\u001b[0m\u001b[1;33m\u001b[0m\u001b[1;33m\u001b[0m\u001b[0m\n",
      "\u001b[1;31mValueError\u001b[0m: too many values to unpack (expected 2)"
     ]
    }
   ],
   "source": [
    "df.apply(lambda x: inserir_linha(x), axis = 1)"
   ]
  },
  {
   "cell_type": "code",
   "execution_count": null,
   "metadata": {},
   "outputs": [],
   "source": []
  },
  {
   "cell_type": "code",
   "execution_count": null,
   "metadata": {},
   "outputs": [],
   "source": []
  }
 ],
 "metadata": {
  "kernelspec": {
   "display_name": "Python 3 (ipykernel)",
   "language": "python",
   "name": "python3"
  },
  "language_info": {
   "codemirror_mode": {
    "name": "ipython",
    "version": 3
   },
   "file_extension": ".py",
   "mimetype": "text/x-python",
   "name": "python",
   "nbconvert_exporter": "python",
   "pygments_lexer": "ipython3",
   "version": "3.10.6"
  }
 },
 "nbformat": 4,
 "nbformat_minor": 4
}
